{
 "cells": [
  {
   "cell_type": "markdown",
   "id": "ff82e194-ad78-4818-9517-18f1581dbc07",
   "metadata": {},
   "source": [
    "# Function_Prectical"
   ]
  },
  {
   "cell_type": "markdown",
   "id": "ab8038c3-5657-4217-be0b-dd87c8a585a5",
   "metadata": {},
   "source": [
    "### Q1--Write a Python function that takes a list of numbers as input and returns the sum of all even numbers in the list."
   ]
  },
  {
   "cell_type": "code",
   "execution_count": 1,
   "id": "839eb902-9da1-41e5-99a0-2614c8db2db9",
   "metadata": {},
   "outputs": [
    {
     "name": "stdout",
     "output_type": "stream",
     "text": [
      "70\n"
     ]
    }
   ],
   "source": [
    "def sum_of_even_numbers(numbers):\n",
    "    total = 0\n",
    "    for num in numbers:\n",
    "        if num % 2 == 0:  \n",
    "            total += num  \n",
    "    return total\n",
    "\n",
    "numbers = [47, 11, 42, 13, 8, 20]\n",
    "result = sum_of_even_numbers(numbers)\n",
    "print(result)  \n"
   ]
  },
  {
   "cell_type": "markdown",
   "id": "eb4fdd9b-29e6-4909-b0da-c1204472d8eb",
   "metadata": {},
   "source": [
    "### Q2--Create a Python function that accepts a string and returns the reverse of that string."
   ]
  },
  {
   "cell_type": "code",
   "execution_count": 2,
   "id": "9d5e024d-c6b7-400f-bb29-05785f5bebe2",
   "metadata": {},
   "outputs": [
    {
     "name": "stdout",
     "output_type": "stream",
     "text": [
      "olleh\n"
     ]
    }
   ],
   "source": [
    "def reverse_string(s):\n",
    "    return s[::-1] \n",
    "\n",
    "input_string = \"hello\"\n",
    "result = reverse_string(input_string)\n",
    "print(result)  \n"
   ]
  },
  {
   "cell_type": "markdown",
   "id": "dd94cf4d-e53b-4712-abb8-ea2fd8e003ba",
   "metadata": {},
   "source": [
    "### Q3-- Implement a Python function that takes a list of integers and returns a new list containing the squares of each number."
   ]
  },
  {
   "cell_type": "code",
   "execution_count": 3,
   "id": "85d47bfc-9e21-4278-9b4c-af51fc9adfa2",
   "metadata": {},
   "outputs": [
    {
     "name": "stdout",
     "output_type": "stream",
     "text": [
      "[1, 4, 9, 16, 25]\n"
     ]
    }
   ],
   "source": [
    "def sqr_num(numbers):\n",
    "    sqr_num = []  \n",
    "    for num in numbers:\n",
    "        sqr_num.append(num ** 2)  \n",
    "    return sqr_num\n",
    "\n",
    "numbers = [1, 2, 3, 4, 5]\n",
    "sqr_num = sqr_num(numbers)\n",
    "print(sqr_num)"
   ]
  },
  {
   "cell_type": "markdown",
   "id": "bde457ce-7f7c-48ab-bf65-7087ebaf0d34",
   "metadata": {},
   "source": [
    "### Q4-- Write a Python function that checks if a given number is prime or not from 1 to 200"
   ]
  },
  {
   "cell_type": "code",
   "execution_count": 4,
   "id": "9c64de87-3a2b-439f-b806-bf921cca5db2",
   "metadata": {},
   "outputs": [
    {
     "name": "stdout",
     "output_type": "stream",
     "text": [
      "[2, 3, 5, 7, 11, 13, 17, 19, 23, 29, 31, 37, 41, 43, 47, 53, 59, 61, 67, 71, 73, 79, 83, 89, 97, 101, 103, 107, 109, 113, 127, 131, 137, 139, 149, 151, 157, 163, 167, 173, 179, 181, 191, 193, 197, 199]\n"
     ]
    }
   ],
   "source": [
    "def is_prime(number):\n",
    "    if number <= 1:\n",
    "        return False  \n",
    "    if number == 2: \n",
    "        return True\n",
    "    if number % 2 == 0:  \n",
    "        return False\n",
    "    for i in range(3, int(number ** 0.5) + 1, 2):  \n",
    "        if number % i == 0:\n",
    "            return False  \n",
    "    return True  \n",
    "\n",
    "prime_numbers = [num for num in range(1, 201) if is_prime(num)]\n",
    "print(prime_numbers)\n"
   ]
  },
  {
   "cell_type": "markdown",
   "id": "ccf5f75d-99e0-4991-a8b2-fe2e73036664",
   "metadata": {},
   "source": [
    "### Q5--Create an iterator class in Python that generates the Fibonacci sequence up to a specified number of terms."
   ]
  },
  {
   "cell_type": "code",
   "execution_count": 7,
   "id": "b0933d65-d406-4259-ba74-78bcf64bbecc",
   "metadata": {},
   "outputs": [
    {
     "name": "stdout",
     "output_type": "stream",
     "text": [
      "0\n",
      "1\n",
      "1\n",
      "2\n",
      "3\n",
      "5\n",
      "8\n",
      "13\n",
      "21\n",
      "34\n"
     ]
    }
   ],
   "source": [
    "class FibonacciIterator:\n",
    "    def __init__(self, n):\n",
    "        self.n = n \n",
    "\n",
    "    def __iter__(self):\n",
    "        a, b = 0, 1 \n",
    "        count = 0\n",
    "        while count < self.n:\n",
    "            yield a  \n",
    "            a, b = b, a + b \n",
    "            count += 1\n",
    "\n",
    "num_terms = 10  \n",
    "fibonacci_seq = FibonacciIterator(num_terms)\n",
    "\n",
    "# Iterate through the Fibonacci sequence\n",
    "for num in fibonacci_seq:\n",
    "    print(num)\n"
   ]
  },
  {
   "cell_type": "markdown",
   "id": "2aaaf260-7aad-4a8b-b7b8-9b77e3501870",
   "metadata": {},
   "source": [
    "### Q6--Write a generator function in Python that yields the powers of 2 up to a given exponent"
   ]
  },
  {
   "cell_type": "code",
   "execution_count": 8,
   "id": "2a2a42e7-f598-4170-932a-c303882678ff",
   "metadata": {},
   "outputs": [
    {
     "name": "stdout",
     "output_type": "stream",
     "text": [
      "1\n",
      "2\n",
      "4\n",
      "8\n",
      "16\n",
      "32\n"
     ]
    }
   ],
   "source": [
    "def powers_of_2(exponent):\n",
    "    for i in range(exponent + 1): \n",
    "        yield 2 ** i  \n",
    "\n",
    "exponent = 5  \n",
    "for power in powers_of_2(exponent):\n",
    "    print(power)\n"
   ]
  },
  {
   "cell_type": "markdown",
   "id": "8eff0404-eaa1-4ca3-b551-351ce7699e5c",
   "metadata": {},
   "source": [
    "### Q7--Implement a generator function that reads a file line by line and yields each line as a string."
   ]
  },
  {
   "cell_type": "code",
   "execution_count": 11,
   "id": "95ef7101-29f2-4ee7-a503-c5a7c8c77031",
   "metadata": {},
   "outputs": [],
   "source": [
    "def read_lines(name):\n",
    "    with open(name, 'r') as file:  \n",
    "        for line in file:\n",
    "            yield line.strip() \n",
    "name = 'example.txt'  \n",
    "for line in read_lines(name):\n",
    "    print(line)\n",
    "\n",
    "# example.txt is the file that we want to read\n",
    "\n"
   ]
  },
  {
   "cell_type": "markdown",
   "id": "476ce7c0-3c92-44a9-879e-5ca8a04fe4bd",
   "metadata": {},
   "source": [
    "### Q8--Use a lambda function in Python to sort a list of tuples based on the second element of each tuple"
   ]
  },
  {
   "cell_type": "code",
   "execution_count": 12,
   "id": "eb428a7b-3f50-4f32-96d3-de00c05f5683",
   "metadata": {},
   "outputs": [
    {
     "name": "stdout",
     "output_type": "stream",
     "text": [
      "[(3, 2), (1, 5), (2, 7), (4, 9)]\n"
     ]
    }
   ],
   "source": [
    "tuples = [(1, 5), (3, 2), (4, 9), (2, 7)]\n",
    "\n",
    "sorted_tuples = sorted(tuples, key=lambda x: x[1])\n",
    "\n",
    "print(sorted_tuples)\n"
   ]
  },
  {
   "cell_type": "markdown",
   "id": "d9a65206-77d1-41f8-b738-0e4e25a3dfde",
   "metadata": {},
   "source": [
    "### Q9--Write a Python program that uses `map()` to convert a list of temperatures from Celsius to Fahrenheit."
   ]
  },
  {
   "cell_type": "code",
   "execution_count": 13,
   "id": "58afa284-e9d4-4e8c-b7ba-8bac32eb66e7",
   "metadata": {},
   "outputs": [
    {
     "name": "stdout",
     "output_type": "stream",
     "text": [
      "[32.0, 50.0, 68.0, 86.0, 104.0, 122.0]\n"
     ]
    }
   ],
   "source": [
    "celsius_temps = [0, 10, 20, 30, 40, 50]\n",
    "\n",
    "def cel_to_farnht(celsius):\n",
    "    return (celsius * 9/5) + 32\n",
    "\n",
    "fahrenheit_temps = list(map(cel_to_farnht, celsius_temps))\n",
    "\n",
    "print(fahrenheit_temps)\n"
   ]
  },
  {
   "cell_type": "markdown",
   "id": "6b0afe6b-e39e-430c-aa2b-f0c08441553a",
   "metadata": {},
   "source": [
    "### Q10-- Create a Python program that uses `filter()` to remove all the vowels from a given string"
   ]
  },
  {
   "cell_type": "code",
   "execution_count": 14,
   "id": "f7ebc375-3dc6-4689-8941-718ef004a3c8",
   "metadata": {},
   "outputs": [
    {
     "name": "stdout",
     "output_type": "stream",
     "text": [
      "Hll Wrld!\n"
     ]
    }
   ],
   "source": [
    "def consnt(char):\n",
    "    return char.lower() not in 'aeiou'\n",
    "\n",
    "input_string = \"Hello World!\"\n",
    "\n",
    "filtered_string = ''.join(filter(consnt, input_string))\n",
    "\n",
    "print(filtered_string)\n"
   ]
  },
  {
   "cell_type": "markdown",
   "id": "737f7244-404a-4aa8-b677-aebaa8551e85",
   "metadata": {},
   "source": [
    "### Q11-- Imagine an accounting routine used in a book shop. It works on a list with sublists, which look like this:\n",
    "### Write a Python program, which returns a list with 2-tuples. Each tuple consists of the order number and the product of the price per item and the quantity. The product should be increased by 10,- € if the value of the order is smaller than 100,00 €.\n",
    "\n",
    "### Write a Python program using lambda and map."
   ]
  },
  {
   "cell_type": "code",
   "execution_count": 16,
   "id": "8b44d79b-f8c7-444e-bb00-a34513c38545",
   "metadata": {},
   "outputs": [
    {
     "name": "stdout",
     "output_type": "stream",
     "text": [
      "[(34587, 163.8), (98762, 284.0), (77226, 108.85000000000001), (88112, 84.97)]\n"
     ]
    }
   ],
   "source": [
    "orders = [\n",
    "    [34587, \"Learning Python, Mark Lutz\", 4, 40.95],\n",
    "    [98762, \"Programming Python, Mark Lutz\", 5, 56.80],\n",
    "    [77226, \"Head First Python, Paul Barry\", 3, 32.95],\n",
    "    [88112, \"Einführung in Python3, Bernd Klein\", 3, 24.99]\n",
    "]\n",
    "\n",
    "def cal_total(order):\n",
    "    total = order[2] * order[3] \n",
    "    if total < 100:\n",
    "        total += 10  \n",
    "    return (order[0], total)\n",
    "\n",
    "result = list(map(cal_total, orders))\n",
    "\n",
    "print(result)"
   ]
  },
  {
   "cell_type": "code",
   "execution_count": null,
   "id": "fb1f4465-f58d-45cd-a4f7-5eef25f67dd1",
   "metadata": {},
   "outputs": [],
   "source": []
  }
 ],
 "metadata": {
  "kernelspec": {
   "display_name": "Python 3 (ipykernel)",
   "language": "python",
   "name": "python3"
  },
  "language_info": {
   "codemirror_mode": {
    "name": "ipython",
    "version": 3
   },
   "file_extension": ".py",
   "mimetype": "text/x-python",
   "name": "python",
   "nbconvert_exporter": "python",
   "pygments_lexer": "ipython3",
   "version": "3.12.1"
  }
 },
 "nbformat": 4,
 "nbformat_minor": 5
}
