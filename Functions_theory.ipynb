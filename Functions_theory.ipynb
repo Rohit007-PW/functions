{
 "cells": [
  {
   "cell_type": "markdown",
   "id": "b92750d9-4374-4410-b4b1-15849e542650",
   "metadata": {},
   "source": [
    "# Functions Theory"
   ]
  },
  {
   "cell_type": "markdown",
   "id": "500897a7-7cbf-490b-9f0c-462759585e76",
   "metadata": {},
   "source": [
    "### Q1--What is the difference between a function and a method in Python?"
   ]
  },
  {
   "cell_type": "markdown",
   "id": "5a85011c-814a-495f-8564-8fc2c207930e",
   "metadata": {},
   "source": [
    "A function is a structured, reusable code block utilized for carrying out a specific task. but if a function inside a class is called as method "
   ]
  },
  {
   "cell_type": "markdown",
   "id": "be455197-b25f-4ea1-b251-c63c2bf3e4f4",
   "metadata": {},
   "source": [
    "### Q2--Explain the concept of function arguments and parameters in Python"
   ]
  },
  {
   "cell_type": "markdown",
   "id": "00a2e5fd-4bd0-4fd0-9f7c-8f7aaab98441",
   "metadata": {},
   "source": [
    "in Python, parameters are variables defined in the function definition that act as placeholders for values, while arguments are the actual values passed to the function when it is called for exicution."
   ]
  },
  {
   "cell_type": "markdown",
   "id": "979063bb-1f91-4807-aff7-73e94f5ef4cb",
   "metadata": {},
   "source": [
    "### Q3--What are the different ways to define and call a function in Python?"
   ]
  },
  {
   "cell_type": "markdown",
   "id": "92114d37-ff64-47bd-9bc7-5beea227c328",
   "metadata": {},
   "source": [
    "In Python, functions can be defined and called in the following ways:\n",
    "\n",
    "\n",
    "1)Define: def greet(name):\n",
    "Call: greet(\"Alice\")\n",
    "\n",
    "\n",
    "2)Define: def greet(name=\"Guest\"):\n",
    "Call: greet() or greet(\"Alice\")\n",
    "\n",
    "\n",
    "\n",
    "3)Define: def greet(*names): or def greet(**details):\n",
    "Call: greet(\"Alice\", \"Bob\") or greet(name=\"Alice\", age=30)\n"
   ]
  },
  {
   "cell_type": "markdown",
   "id": "7f3bf9f4-4b23-4136-8709-7d05abfa8ae8",
   "metadata": {},
   "source": [
    "### Q4--What is the purpose of the `return` statement in a Python function?"
   ]
  },
  {
   "cell_type": "markdown",
   "id": "efcd3e51-77e9-4201-a9e7-5de867f783b4",
   "metadata": {},
   "source": [
    "The return statement in Python is used to return a value from a function but not print and end its execution. It allows the function to provide an output that can be used later."
   ]
  },
  {
   "cell_type": "markdown",
   "id": "9291a512-3a6c-411b-b973-92fd7aa8ad6b",
   "metadata": {},
   "source": [
    "### Q5--What are iterators in Python and how do they differ from iterables?"
   ]
  },
  {
   "cell_type": "markdown",
   "id": "c2a44cd0-4aa4-48af-a9f9-4a59cd229a87",
   "metadata": {},
   "source": [
    "An iterator in Python is an object that allows you to traverse through all the elements of an iterable (such as a list, tuple, or dictionary) one by one. It keeps track of the current state during iteration. and An iterable is any object in Python that can return an iterator."
   ]
  },
  {
   "cell_type": "markdown",
   "id": "f3565850-8433-47bc-ab3e-62120dab8c67",
   "metadata": {},
   "source": [
    "### Q6--Explain the concept of generators in Python and how they are defined"
   ]
  },
  {
   "cell_type": "markdown",
   "id": "fccd4871-2b0c-4faa-8a5a-ed6ad03129a9",
   "metadata": {},
   "source": [
    "Generators are a simple way to create iterators using functions and the yield keyword instead of returning values.we can define a generator function just like a normal function, but instead of using return, you use yield to yield values one at a time."
   ]
  },
  {
   "cell_type": "markdown",
   "id": "b2597f7f-d38c-46f7-b9c9-96817383a1e8",
   "metadata": {},
   "source": [
    "### Q7--What are the advantages of using generators over regular functions?"
   ]
  },
  {
   "cell_type": "markdown",
   "id": "5c56df00-93c6-4cce-8f48-a2ea871feeea",
   "metadata": {},
   "source": [
    "Advantages of Using Generators Over Regular Functions are \n",
    "\n",
    "1)Generators produce values one at a time and don’t store the entire sequence in memory, making them more memory-efficient for large datasets.\n",
    "\n",
    "2)Values are computed only when needed, which can improve performance when dealing with large or infinite sequences.\n",
    "\n",
    "3)Using yield simplifies the creation of iterators, making the code more concise and readable.\n"
   ]
  },
  {
   "cell_type": "markdown",
   "id": "7d8ebb1b-4779-4f9e-97f6-f01780c67e51",
   "metadata": {},
   "source": [
    "### Q8--What is a lambda function in Python and when is it typically used?"
   ]
  },
  {
   "cell_type": "markdown",
   "id": "6f05ad9b-fba5-4d77-9d50-c1061477aff7",
   "metadata": {},
   "source": [
    "Lambda functions are small, anonymous functions defined using the lambda keyword. They are used for creating small, throwaway functions without the need to formally define a function using def"
   ]
  },
  {
   "cell_type": "markdown",
   "id": "46abd469-1291-442e-a3c1-9499ad2c779c",
   "metadata": {},
   "source": [
    "### Q9-- Explain the purpose and usage of the `map()` function in Python."
   ]
  },
  {
   "cell_type": "markdown",
   "id": "7381e6ae-03ce-49c0-b1c9-8354aaf0b3fa",
   "metadata": {},
   "source": [
    "map function applies a given function to all items in an input iterable (like a list) and returns an iterator with the results.and It reduces an iterable to a single cumulative value by applying the function cumulatively."
   ]
  },
  {
   "cell_type": "markdown",
   "id": "710fb02d-f2a6-4133-aaae-94872bb85ee7",
   "metadata": {},
   "source": [
    "### Q10--What is the difference between `map()`, `reduce()`, and `filter()` functions in Python?"
   ]
  },
  {
   "cell_type": "markdown",
   "id": "6eab99ec-5e32-4626-8129-a808cdbca5e1",
   "metadata": {},
   "source": [
    "map(): Applies a function to each element in an iterable and returns a new iterable with the results.\n",
    "\n",
    "Use case: Transforming elements.\n",
    "\n",
    "Example: Squaring numbers in a list.\n",
    "\n",
    "\n",
    "\n",
    "filter(): Filters elements from an iterable based on a condition (returns elements that satisfy the condition).\n",
    "\n",
    "Use case: Selecting elements based on a condition.\n",
    "\n",
    "Example: Keeping only even numbers in a list.\n",
    "\n",
    "\n",
    "reduce(): Reduces an iterable to a single value by applying a binary function cumulatively.\n",
    "\n",
    "Use case: Combining elements into a single result.\n",
    "\n",
    "Example: Calculating the product of numbers in a list."
   ]
  },
  {
   "cell_type": "markdown",
   "id": "474f3ee5-4118-4fc0-b6db-15327099cc79",
   "metadata": {},
   "source": [
    "### Q11-- Using pen & Paper write the internal mechanism for sum operation using  reduce function on this given list:[47,11,42,13]; "
   ]
  },
  {
   "cell_type": "markdown",
   "id": "8cde437b-ab8c-4696-83e8-1e66e4f5107e",
   "metadata": {},
   "source": [
    "here is the link of attached image \n",
    "\n",
    "https://drive.google.com/file/d/11wNIeOnhpTIF5B0LC8LEiYq8IUnQR_sw/view?usp=drive_link"
   ]
  },
  {
   "cell_type": "code",
   "execution_count": null,
   "id": "ef23551e-b2e9-4b75-b0a2-d1d1645088db",
   "metadata": {},
   "outputs": [],
   "source": []
  }
 ],
 "metadata": {
  "kernelspec": {
   "display_name": "Python 3 (ipykernel)",
   "language": "python",
   "name": "python3"
  },
  "language_info": {
   "codemirror_mode": {
    "name": "ipython",
    "version": 3
   },
   "file_extension": ".py",
   "mimetype": "text/x-python",
   "name": "python",
   "nbconvert_exporter": "python",
   "pygments_lexer": "ipython3",
   "version": "3.12.1"
  }
 },
 "nbformat": 4,
 "nbformat_minor": 5
}
